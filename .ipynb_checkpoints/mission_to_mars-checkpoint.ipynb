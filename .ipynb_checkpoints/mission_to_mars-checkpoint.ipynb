{
 "cells": [
  {
   "cell_type": "code",
   "execution_count": 1,
   "id": "earned-investor",
   "metadata": {},
   "outputs": [],
   "source": [
    "#Dependencies\n",
    "import os\n",
    "from bs4 import BeautifulSoup as bs\n",
    "import requests\n",
    "from webdriver_manager.chrome import ChromeDriverManager\n",
    "from splinter import Browser\n",
    "from flask import Flask, render_template, redirect\n",
    "from flask_pymongo import PyMongo\n",
    "import time\n",
    "import pandas as pd\n"
   ]
  },
  {
   "cell_type": "code",
   "execution_count": 2,
   "id": "novel-place",
   "metadata": {},
   "outputs": [
    {
     "name": "stderr",
     "output_type": "stream",
     "text": [
      "[WDM] - ====== WebDriver manager ======\n"
     ]
    },
    {
     "name": "stdout",
     "output_type": "stream",
     "text": [
      "\n",
      "\n"
     ]
    },
    {
     "name": "stderr",
     "output_type": "stream",
     "text": [
      "[WDM] - Current google-chrome version is 88.0.4324\n",
      "[WDM] - Get LATEST driver version for 88.0.4324\n",
      "[WDM] - Driver [C:\\Users\\angel\\.wdm\\drivers\\chromedriver\\win32\\88.0.4324.96\\chromedriver.exe] found in cache\n"
     ]
    }
   ],
   "source": [
    "#Splinter\n",
    "executable_path = {'executable_path': ChromeDriverManager().install()}\n",
    "browser = Browser('chrome', **executable_path, headless=False)"
   ]
  },
  {
   "cell_type": "markdown",
   "id": "optional-reservoir",
   "metadata": {},
   "source": [
    "## NASA Mars News"
   ]
  },
  {
   "cell_type": "code",
   "execution_count": null,
   "id": "collectible-benjamin",
   "metadata": {},
   "outputs": [],
   "source": [
    "url = 'https://mars.nasa.gov/news/'\n",
    "browser.visit(url)\n",
    "time.sleep(1)\n",
    "browser.is_element_present_by_name(\"email\", wait_time=1)\n",
    "html = browser.html\n",
    "\n",
    "#BeautifulSoup\n",
    "soup = bs(html, \"html.parser\")\n",
    "#print(soup.prettify())"
   ]
  },
  {
   "cell_type": "code",
   "execution_count": null,
   "id": "contrary-finder",
   "metadata": {},
   "outputs": [],
   "source": [
    "# Find news title and paragraph text\n",
    "news = soup.select_one('div.list_text')\n",
    "title = news.find('div', class_='content_title').get_text()\n",
    "paragraph = news.find('div', class_= 'article_teaser_body').get_text()\n",
    "print(title)\n",
    "print('-----------------')\n",
    "print(paragraph)"
   ]
  },
  {
   "cell_type": "markdown",
   "id": "convertible-issue",
   "metadata": {},
   "source": [
    "## JPL Mars Space Images  -  Featured Image"
   ]
  },
  {
   "cell_type": "code",
   "execution_count": 13,
   "id": "appreciated-engine",
   "metadata": {},
   "outputs": [
    {
     "name": "stderr",
     "output_type": "stream",
     "text": [
      "C:\\Users\\angel\\anaconda3\\envs\\PythonData\\lib\\site-packages\\splinter\\driver\\webdriver\\__init__.py:493: FutureWarning: browser.find_link_by_partial_text is deprecated. Use browser.links.find_by_partial_text instead.\n",
      "  FutureWarning,\n"
     ]
    }
   ],
   "source": [
    "jpl_url = 'https://data-class-jpl-space.s3.amazonaws.com/JPL_Space/index.html'\n",
    "browser.visit(jpl_url)\n",
    "time.sleep(1)\n",
    "browser.click_link_by_partial_text('FULL IMAGE')\n",
    "browser.is_element_present_by_text('more info', wait_time=1)\n",
    "html = browser.html\n",
    "jpl_soup = bs(html, 'html.parser')"
   ]
  },
  {
   "cell_type": "code",
   "execution_count": 14,
   "id": "elementary-interim",
   "metadata": {},
   "outputs": [
    {
     "name": "stdout",
     "output_type": "stream",
     "text": [
      "https://data-class-jpl-space.s3.amazonaws.com/JPL_Space/image/featured/mars1.jpg\n"
     ]
    }
   ],
   "source": [
    "# Find the image url for the current Featured Mars Image\n",
    "original_url = 'https://data-class-jpl-space.s3.amazonaws.com/JPL_Space/'\n",
    "\n",
    "image = jpl_soup.find('div', class_='floating_text_area')\n",
    "new_image = image.find('a', class_='showimg fancybox-thumbs')\n",
    "final_image = new_image['href']\n",
    "featured_image_url = original_url + final_image\n",
    "print(featured_image_url)"
   ]
  },
  {
   "cell_type": "markdown",
   "id": "meaningful-touch",
   "metadata": {},
   "source": [
    "## Mars Facts"
   ]
  },
  {
   "cell_type": "code",
   "execution_count": 36,
   "id": "executive-aggregate",
   "metadata": {},
   "outputs": [],
   "source": [
    "mars_url = 'https://space-facts.com/mars/'\n",
    "mars_table = pd.read_html(mars_url)\n",
    "mars_facts_df = mars_table[0]\n",
    "mars_facts_df.rename(columns = {0: 'Measurement', 1: 'Value'}, inplace = True) \n",
    "#mars_facts_df"
   ]
  },
  {
   "cell_type": "code",
   "execution_count": 44,
   "id": "orange-property",
   "metadata": {},
   "outputs": [],
   "source": [
    "mars_facts_html = mars_facts_df.to_html()\n",
    "final_facts = mars_facts_html.replace('\\n', '')\n",
    "#final_facts"
   ]
  },
  {
   "cell_type": "markdown",
   "id": "wanted-movie",
   "metadata": {},
   "source": [
    "## Mars Hemispheres "
   ]
  },
  {
   "cell_type": "code",
   "execution_count": 59,
   "id": "rural-contact",
   "metadata": {},
   "outputs": [],
   "source": [
    "hemispheres_url = 'https://astrogeology.usgs.gov/search/results?q=hemisphere+enhanced&k1=target&v1=Mars'\n",
    "browser.visit(hemispheres_url)\n",
    "browser.is_element_present_by_text(\"Contact\", wait_time=1)\n",
    "hemi_html = browser.html\n",
    "\n",
    "soup = bs(hemi_html, \"html.parser\")"
   ]
  },
  {
   "cell_type": "code",
   "execution_count": 60,
   "id": "crucial-justice",
   "metadata": {},
   "outputs": [
    {
     "name": "stdout",
     "output_type": "stream",
     "text": [
      "[{'title': 'Cerberus Hemisphere Enhanced', 'img_url': 'https://astropedia.astrogeology.usgs.gov/download/Mars/Viking/cerberus_enhanced.tif/full.jpg'}, {'title': 'Schiaparelli Hemisphere Enhanced', 'img_url': 'https://astropedia.astrogeology.usgs.gov/download/Mars/Viking/schiaparelli_enhanced.tif/full.jpg'}, {'title': 'Syrtis Major Hemisphere Enhanced', 'img_url': 'https://astropedia.astrogeology.usgs.gov/download/Mars/Viking/syrtis_major_enhanced.tif/full.jpg'}, {'title': 'Valles Marineris Hemisphere Enhanced', 'img_url': 'https://astropedia.astrogeology.usgs.gov/download/Mars/Viking/valles_marineris_enhanced.tif/full.jpg'}]\n"
     ]
    }
   ],
   "source": [
    "# obtain high resolution images for each of Mars' hemispheres.\n",
    "\n",
    "first_pass = soup.find('div', class_='result-list')\n",
    "images = first_pass.find_all('div', class_='item')\n",
    "base_url = 'https://astrogeology.usgs.gov/'\n",
    "\n",
    "hemi_urls = []\n",
    "\n",
    "for image in images:\n",
    "    title = image.find('h3').text\n",
    "    link = image.find('a')['href']\n",
    "    updated_link = base_url + link\n",
    "    browser.visit(updated_link)\n",
    "    html2 = browser.html\n",
    "    soup = bs(html2, 'html.parser')\n",
    "    first_div = soup.find('div', class_='downloads')\n",
    "    enhanced_image_url = first_div.find('a')['href']\n",
    "    hemi_urls.append({'title' : title, 'img_url' : enhanced_image_url})\n",
    "\n",
    "print(hemi_urls)\n",
    "    "
   ]
  },
  {
   "cell_type": "code",
   "execution_count": null,
   "id": "devoted-spank",
   "metadata": {},
   "outputs": [],
   "source": []
  },
  {
   "cell_type": "code",
   "execution_count": null,
   "id": "satellite-polish",
   "metadata": {},
   "outputs": [],
   "source": [
    "#browser.quit()"
   ]
  }
 ],
 "metadata": {
  "kernelspec": {
   "display_name": "Python 3",
   "language": "python",
   "name": "python3"
  },
  "language_info": {
   "codemirror_mode": {
    "name": "ipython",
    "version": 3
   },
   "file_extension": ".py",
   "mimetype": "text/x-python",
   "name": "python",
   "nbconvert_exporter": "python",
   "pygments_lexer": "ipython3",
   "version": "3.6.10"
  }
 },
 "nbformat": 4,
 "nbformat_minor": 5
}
